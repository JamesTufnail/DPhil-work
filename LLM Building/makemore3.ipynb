{
 "cells": [
  {
   "cell_type": "code",
   "execution_count": 2,
   "metadata": {},
   "outputs": [],
   "source": [
    "import torch\n",
    "import torch.nn.functional as F\n",
    "import matplotlib.pyplot as plt # for making figures\n",
    "%matplotlib inline"
   ]
  },
  {
   "cell_type": "code",
   "execution_count": 3,
   "metadata": {},
   "outputs": [
    {
     "data": {
      "text/plain": [
       "['emma', 'olivia', 'ava', 'isabella', 'sophia', 'charlotte', 'mia', 'amelia']"
      ]
     },
     "execution_count": 3,
     "metadata": {},
     "output_type": "execute_result"
    }
   ],
   "source": [
    "# read in all the words\n",
    "words = open('names.txt', 'r').read().splitlines()\n",
    "words[:8]"
   ]
  },
  {
   "cell_type": "code",
   "execution_count": 4,
   "metadata": {},
   "outputs": [
    {
     "data": {
      "text/plain": [
       "32033"
      ]
     },
     "execution_count": 4,
     "metadata": {},
     "output_type": "execute_result"
    }
   ],
   "source": [
    "len(words)"
   ]
  },
  {
   "cell_type": "code",
   "execution_count": 5,
   "metadata": {},
   "outputs": [
    {
     "name": "stdout",
     "output_type": "stream",
     "text": [
      "{1: 'a', 2: 'b', 3: 'c', 4: 'd', 5: 'e', 6: 'f', 7: 'g', 8: 'h', 9: 'i', 10: 'j', 11: 'k', 12: 'l', 13: 'm', 14: 'n', 15: 'o', 16: 'p', 17: 'q', 18: 'r', 19: 's', 20: 't', 21: 'u', 22: 'v', 23: 'w', 24: 'x', 25: 'y', 26: 'z', 0: '.'}\n",
      "27\n"
     ]
    }
   ],
   "source": [
    "# build the vocabulary of characters and mappings to/from integers\n",
    "chars = sorted(list(set(''.join(words))))\n",
    "stoi = {s:i+1 for i,s in enumerate(chars)}\n",
    "stoi['.'] = 0\n",
    "itos = {i:s for s,i in stoi.items()}\n",
    "vocab_size = len(itos)\n",
    "print(itos)\n",
    "print(vocab_size)"
   ]
  },
  {
   "cell_type": "code",
   "execution_count": 6,
   "metadata": {},
   "outputs": [
    {
     "name": "stdout",
     "output_type": "stream",
     "text": [
      "torch.Size([182625, 3]) torch.Size([182625])\n",
      "torch.Size([22655, 3]) torch.Size([22655])\n",
      "torch.Size([22866, 3]) torch.Size([22866])\n"
     ]
    }
   ],
   "source": [
    "# build the dataset\n",
    "block_size = 3 # context length: how many characters do we take to predict the next one?\n",
    "\n",
    "def build_dataset(words):  \n",
    "  X, Y = [], []\n",
    "  \n",
    "  for w in words:\n",
    "    context = [0] * block_size\n",
    "    for ch in w + '.':\n",
    "      ix = stoi[ch]\n",
    "      X.append(context)\n",
    "      Y.append(ix)\n",
    "      context = context[1:] + [ix] # crop and append\n",
    "\n",
    "  X = torch.tensor(X)\n",
    "  Y = torch.tensor(Y)\n",
    "  print(X.shape, Y.shape)\n",
    "  return X, Y\n",
    "\n",
    "import random\n",
    "random.seed(42)\n",
    "random.shuffle(words)\n",
    "n1 = int(0.8*len(words))\n",
    "n2 = int(0.9*len(words))\n",
    "\n",
    "Xtr,  Ytr  = build_dataset(words[:n1])     # 80%\n",
    "Xdev, Ydev = build_dataset(words[n1:n2])   # 10%\n",
    "Xte,  Yte  = build_dataset(words[n2:])     # 10%"
   ]
  },
  {
   "cell_type": "code",
   "execution_count": 7,
   "metadata": {},
   "outputs": [
    {
     "name": "stdout",
     "output_type": "stream",
     "text": [
      "11697\n"
     ]
    }
   ],
   "source": [
    "# MLP revisited\n",
    "n_embd = 10 # the dimensionality of the character embedding vectors\n",
    "n_hidden = 200 # the number of neurons in the hidden layer of the MLP\n",
    "\n",
    "# initialize the parameters using a normal distribution\n",
    "# also reduce the size of the weights to prevent tanh saturation and dead neurons\n",
    "g = torch.Generator().manual_seed(2147483647) # for reproducibility\n",
    "C  = torch.randn((vocab_size, n_embd),            generator=g)\n",
    "W1 = torch.randn((n_embd * block_size, n_hidden), generator=g) * (5/3)/((n_embd * block_size)**0.5) # \"\"\" Kaiming initialization using a tanh nonlinearity \"\"\"\n",
    "# b1 = torch.randn(n_hidden,                        generator=g)  * 0.01 - don't add bias here because the batch normalisation is doing the biasing now\n",
    "W2 = torch.randn((n_hidden, vocab_size),          generator=g) * 0.01\n",
    "b2 = torch.randn(vocab_size,                      generator=g) * 0\n",
    "\n",
    "# BatchNorm parameters\n",
    "\"bias and gain allow the batchnorm gaussian to mvoe around and scale rather than be continuiously forced to be sd 1 and mean 0 for every neuron \"\n",
    "bngain = torch.ones((1, n_hidden))\n",
    "bnbias = torch.zeros((1, n_hidden))\n",
    "bnmean_running = torch.zeros((1, n_hidden)) # track the running mean of the batch which is initialised as 0\n",
    "bnstd_running = torch.ones((1, n_hidden)) # track the running std of the batch which is initialised as 1\n",
    "\n",
    "parameters = [C, W1, W2, b2] #, bngain, bnbias]\n",
    "print(sum(p.nelement() for p in parameters)) # number of parameters in total\n",
    "for p in parameters:\n",
    "  p.requires_grad = True"
   ]
  },
  {
   "cell_type": "code",
   "execution_count": 8,
   "metadata": {},
   "outputs": [
    {
     "data": {
      "text/plain": [
       "\"\\nYou can actually use batch normalsiation \\n\\nmax_steps = 20000\\nbatch_size = 32\\nlossi = []\\n\\nfor i in range(max_steps):\\n\\n    # Construct minibatch\\n    ix = torch.randint(0, Xtr.shape[0], (batch_size,), generator = g) # construct random tensor of indices\\n    Xb, Yb = Xtr[ix], Ytr[ix] # construct minibatch by reandomly selecting indices from training data\\n\\n    # forward pass\\n    emb = C[Xb] # embed the minibatch characters into vectors\\n    embcat = emb.view(emb.shape[0], -1) # concatenate the vectors - The first argument emb.shape[0] specifies that the first dimension of the reshaped tensor should remain the same as the original tensor emb. The second argument -1 means that the size of the second dimension should be automatically inferred based on the size of the original tensor and the specified first dimension. Specifically, -1 tells PyTorch to infer the size of the second dimension such that the total number of elements in the reshaped tensor remains the same as the original tensor.\\n    hpreact = embcat @ W1 + b1 # hidden layer pre-activation\\n    h = torch.tanh(hpreact) # hidden layer activation\\n    logits = h @ W2 + b2 # output layer\\n    loss = F.cross_entropy(logits, Yb) # compute the loss\\n\\n    # backward pass - this literally passes backwards through the above code from loss to emb\\n    for p in parameters:\\n        p.grad = None\\n    loss.backward() # compute the gradients\\n\\n    # update \\n    lr = 0.1 if i < 100000 else 0.01 # step learning rate decay\\n    for p in parameters:\\n        p.data += -lr * p.grad\\n\\n    # track stats\\n    if i % 10000 == 0: # print stats every 10000 steps\\n        print(f'{i:7d}/{max_steps:7d}: {loss.item():4f}')\\n    lossi.append(loss.log10().item())\\n\\n    break\\n\\n\""
      ]
     },
     "execution_count": 8,
     "metadata": {},
     "output_type": "execute_result"
    }
   ],
   "source": [
    "\"\"\"\n",
    "You can actually use batch normalsiation \n",
    "\n",
    "max_steps = 20000\n",
    "batch_size = 32\n",
    "lossi = []\n",
    "\n",
    "for i in range(max_steps):\n",
    "\n",
    "    # Construct minibatch\n",
    "    ix = torch.randint(0, Xtr.shape[0], (batch_size,), generator = g) # construct random tensor of indices\n",
    "    Xb, Yb = Xtr[ix], Ytr[ix] # construct minibatch by reandomly selecting indices from training data\n",
    "\n",
    "    # forward pass\n",
    "    emb = C[Xb] # embed the minibatch characters into vectors\n",
    "    embcat = emb.view(emb.shape[0], -1) # concatenate the vectors - The first argument emb.shape[0] specifies that the first dimension of the reshaped tensor should remain the same as the original tensor emb. The second argument -1 means that the size of the second dimension should be automatically inferred based on the size of the original tensor and the specified first dimension. Specifically, -1 tells PyTorch to infer the size of the second dimension such that the total number of elements in the reshaped tensor remains the same as the original tensor.\n",
    "    hpreact = embcat @ W1 + b1 # hidden layer pre-activation\n",
    "    h = torch.tanh(hpreact) # hidden layer activation\n",
    "    logits = h @ W2 + b2 # output layer\n",
    "    loss = F.cross_entropy(logits, Yb) # compute the loss\n",
    "\n",
    "    # backward pass - this literally passes backwards through the above code from loss to emb\n",
    "    for p in parameters:\n",
    "        p.grad = None\n",
    "    loss.backward() # compute the gradients\n",
    "\n",
    "    # update \n",
    "    lr = 0.1 if i < 100000 else 0.01 # step learning rate decay\n",
    "    for p in parameters:\n",
    "        p.data += -lr * p.grad\n",
    "\n",
    "    # track stats\n",
    "    if i % 10000 == 0: # print stats every 10000 steps\n",
    "        print(f'{i:7d}/{max_steps:7d}: {loss.item():4f}')\n",
    "    lossi.append(loss.log10().item())\n",
    "\n",
    "    break\n",
    "\n",
    "\"\"\""
   ]
  },
  {
   "cell_type": "code",
   "execution_count": 9,
   "metadata": {},
   "outputs": [
    {
     "name": "stdout",
     "output_type": "stream",
     "text": [
      "      0/ 200000: 3.323863\n",
      "  10000/ 200000: 2.042951\n",
      "  20000/ 200000: 2.530759\n",
      "  30000/ 200000: 2.041835\n",
      "  40000/ 200000: 2.292791\n",
      "  50000/ 200000: 1.843099\n",
      "  60000/ 200000: 2.053564\n",
      "  70000/ 200000: 2.245976\n",
      "  80000/ 200000: 2.361888\n",
      "  90000/ 200000: 2.048406\n",
      " 100000/ 200000: 2.303238\n",
      " 110000/ 200000: 2.324622\n",
      " 120000/ 200000: 1.646764\n",
      " 130000/ 200000: 1.999532\n",
      " 140000/ 200000: 2.289608\n",
      " 150000/ 200000: 2.011173\n",
      " 160000/ 200000: 2.091702\n",
      " 170000/ 200000: 2.473447\n",
      " 180000/ 200000: 2.071307\n",
      " 190000/ 200000: 2.086669\n"
     ]
    },
    {
     "ename": "AttributeError",
     "evalue": "'float' object has no attribute 'log10'",
     "output_type": "error",
     "traceback": [
      "\u001b[1;31m---------------------------------------------------------------------------\u001b[0m",
      "\u001b[1;31mAttributeError\u001b[0m                            Traceback (most recent call last)",
      "Cell \u001b[1;32mIn[9], line 47\u001b[0m\n\u001b[0;32m     44\u001b[0m         \u001b[38;5;28mprint\u001b[39m(\u001b[38;5;124mf\u001b[39m\u001b[38;5;124m'\u001b[39m\u001b[38;5;132;01m{\u001b[39;00mi\u001b[38;5;132;01m:\u001b[39;00m\u001b[38;5;124m7d\u001b[39m\u001b[38;5;132;01m}\u001b[39;00m\u001b[38;5;124m/\u001b[39m\u001b[38;5;132;01m{\u001b[39;00mmax_steps\u001b[38;5;132;01m:\u001b[39;00m\u001b[38;5;124m7d\u001b[39m\u001b[38;5;132;01m}\u001b[39;00m\u001b[38;5;124m: \u001b[39m\u001b[38;5;132;01m{\u001b[39;00mloss\u001b[38;5;241m.\u001b[39mitem()\u001b[38;5;132;01m:\u001b[39;00m\u001b[38;5;124m4f\u001b[39m\u001b[38;5;132;01m}\u001b[39;00m\u001b[38;5;124m'\u001b[39m)\n\u001b[0;32m     45\u001b[0m     lossi\u001b[38;5;241m.\u001b[39mappend(loss\u001b[38;5;241m.\u001b[39mlog10()\u001b[38;5;241m.\u001b[39mitem())\n\u001b[1;32m---> 47\u001b[0m \u001b[38;5;28mprint\u001b[39m(\u001b[38;5;124m'\u001b[39m\u001b[38;5;124mFinal achieved loss:\u001b[39m\u001b[38;5;124m'\u001b[39m, \u001b[43mlossi\u001b[49m\u001b[43m[\u001b[49m\u001b[38;5;241;43m-\u001b[39;49m\u001b[38;5;241;43m1\u001b[39;49m\u001b[43m]\u001b[49m\u001b[38;5;241;43m.\u001b[39;49m\u001b[43mlog10\u001b[49m())\n",
      "\u001b[1;31mAttributeError\u001b[0m: 'float' object has no attribute 'log10'"
     ]
    }
   ],
   "source": [
    "\"\"\"Using batch normalisation\"\"\"\n",
    "\n",
    "max_steps = 200000\n",
    "batch_size = 32\n",
    "lossi = []\n",
    "\n",
    "for i in range(max_steps):\n",
    "\n",
    "    # Construct minibatch\n",
    "    ix = torch.randint(0, Xtr.shape[0], (batch_size,), generator = g) # construct random tensor of indices\n",
    "    Xb, Yb = Xtr[ix], Ytr[ix] # construct minibatch by reandomly selecting indices from training data\n",
    "\n",
    "    # forward pass\n",
    "    emb = C[Xb] # embed the minibatch characters into vectors\n",
    "    embcat = emb.view(emb.shape[0], -1) # concatenate the vectors - The first argument emb.shape[0] specifies that the first dimension of the reshaped tensor should remain the same as the original tensor emb. The second argument -1 means that the size of the second dimension should be automatically inferred based on the size of the original tensor and the specified first dimension. Specifically, -1 tells PyTorch to infer the size of the second dimension such that the total number of elements in the reshaped tensor remains the same as the original tensor.\n",
    "    \"want to make hpreact roughly gaussian\"\n",
    "    hpreact = embcat @ W1 # + b1 # hidden layer pre-activation - don't add bias here because the batch normalisation is doing the biasing now\n",
    "    \"\"\"batch normalisation using gain and shift \"\"\"\n",
    "    bnmeani= hpreact.mean(0, keepdim=True)\n",
    "    bnstdi = hpreact.std(0, keepdim=True)\n",
    "    hpreact = bngain*(hpreact - bnmeani) / bnstdi + bnbias\n",
    "\n",
    "    \" calculate the running mean and std of the batch so that you don't need to do it separately as in a few blocks below\"\n",
    "    with torch.no_grad(): # don't compute gradients for the running mean and std\n",
    "        bnmean_running = 0.999 * bnmean_running + 0.001 * bnmeani\n",
    "        bnstd_running = 0.999 * bnstd_running + 0.001 * bnstdi\n",
    "    \n",
    "    h = torch.tanh(hpreact) # hidden layer activation\n",
    "    logits = h @ W2 + b2 # output layer\n",
    "    loss = F.cross_entropy(logits, Yb) # compute the loss\n",
    "\n",
    "    # backward pass - this literally passes backwards through the above code from loss to emb\n",
    "    for p in parameters:\n",
    "        p.grad = None\n",
    "    loss.backward() # compute the gradients\n",
    "\n",
    "    # update \n",
    "    lr = 0.1 if i < 100000 else 0.01 # step learning rate decay\n",
    "    for p in parameters:\n",
    "        p.data += -lr * p.grad\n",
    "\n",
    "    # track stats\n",
    "    if i % 10000 == 0: # print stats every 10000 steps\n",
    "        print(f'{i:7d}/{max_steps:7d}: {loss.item():4f}')\n",
    "    lossi.append(loss.log10().item())\n",
    "\n",
    "print('Final achieved loss:', lossi[-1].log10())\n"
   ]
  },
  {
   "cell_type": "code",
   "execution_count": null,
   "metadata": {},
   "outputs": [
    {
     "data": {
      "image/png": "[encoded data removed]",
      "text/plain": [
       "<Figure size 640x480 with 1 Axes>"
      ]
     },
     "metadata": {},
     "output_type": "display_data"
    }
   ],
   "source": [
    "# checking the preactivation values that are fed into the hdden layer.\n",
    "# they will be fed to tanh activation function and so should aim for domain to be between about -1 and 1 so that the tanh function is not saturated (i.e. range not have lots of 1 or -1 values)\n",
    "plt.hist(hpreact.view(-1).tolist(), 50);\n",
    "\n",
    "# to improve you should reduce the weights and biases !!!"
   ]
  },
  {
   "cell_type": "code",
   "execution_count": null,
   "metadata": {},
   "outputs": [
    {
     "data": {
      "image/png": "[encoded data removed]",
      "text/plain": [
       "<Figure size 640x480 with 1 Axes>"
      ]
     },
     "metadata": {},
     "output_type": "display_data"
    }
   ],
   "source": [
    "# checking activation function \n",
    "plt.hist(h.view(-1).tolist(), 50);\n",
    "# can see many values are -1 or 1, which will produce issues in our backpropagation algorithm"
   ]
  },
  {
   "cell_type": "code",
   "execution_count": null,
   "metadata": {},
   "outputs": [
    {
     "data": {
      "text/plain": [
       "<matplotlib.image.AxesImage at 0x1829e32c9d0>"
      ]
     },
     "execution_count": 83,
     "metadata": {},
     "output_type": "execute_result"
    },
    {
     "data": {
      "image/png": "[encoded data removed]",
      "text/plain": [
       "<Figure size 2000x1000 with 1 Axes>"
      ]
     },
     "metadata": {},
     "output_type": "display_data"
    }
   ],
   "source": [
    "# check which neurons are saturated\n",
    "# saturation is problem becuase it won't learn (back prop is 0)\n",
    "plt.figure(figsize=(20,10))    \n",
    "plt.imshow(h.abs() > 0.99, cmap='gray', interpolation='nearest') # this takes the h array and produces a boolean tensor if h value > 0.99, white if true, black if false"
   ]
  },
  {
   "cell_type": "code",
   "execution_count": null,
   "metadata": {},
   "outputs": [],
   "source": [
    "\" Calibrate the batch normalisatino after training. i.e. fixing the mean and std before validating and testing\"\n",
    "# In reality you dont do this - YOU DO THIS DURING TRAINING AND PRINT THE MINAL MEAN\n",
    "with torch.no_grad():\n",
    "    # pass the training set through\n",
    "    emb = C[Xtr]\n",
    "    embcat = emb.view(emb.shape[0], -1)\n",
    "    hpreact = embcat @ W1 + b1\n",
    "    # measure the mean and std over thr whole batch that was used to train\n",
    "    bnmean = hpreact.mean(0, keepdim=True)\n",
    "    bnstd = hpreact.std(0, keepdim=True)"
   ]
  },
  {
   "cell_type": "code",
   "execution_count": null,
   "metadata": {},
   "outputs": [
    {
     "name": "stdout",
     "output_type": "stream",
     "text": [
      "train loss: 2.212538480758667\n",
      "test loss: 2.2569808959960938\n"
     ]
    }
   ],
   "source": [
    "@torch.no_grad() # this is a decorator that tells PyTorch not to track gradients within this block\n",
    "def split_loss(split):\n",
    "    x, y = {\n",
    "        'train': (Xtr, Ytr),\n",
    "        'dev': (Xdev, Ydev),\n",
    "        'test': (Xte, Yte)\n",
    "    }[split]\n",
    "    emb = C[x]\n",
    "    embcat = emb.view(emb.shape[0], -1)\n",
    "    hpreact = embcat @ W1 \n",
    "    #hpreact = bngain*(hpreact - hpreact.mean(0, keepdim=True)) / hpreact.std(0, keepdim=True) + bnbias\n",
    "    hpreact = bngain * (hpreact - bnmean) / bnstd + bnbias\n",
    "    h = torch.tanh(hpreact)\n",
    "    logits = h @ W2 + b2\n",
    "    loss = F.cross_entropy(logits, y)\n",
    "    print(split, 'loss:', loss.item())\n",
    "\n",
    "split_loss('train')\n",
    "split_loss('test')"
   ]
  },
  {
   "cell_type": "code",
   "execution_count": null,
   "metadata": {},
   "outputs": [
    {
     "name": "stdout",
     "output_type": "stream",
     "text": [
      "tensor(-0.0105) tensor(1.0030)\n",
      "tensor(0.0106) tensor(3.2301)\n"
     ]
    },
    {
     "data": {
      "image/png": "[encoded data removed]",
      "text/plain": [
       "<Figure size 2000x500 with 2 Axes>"
      ]
     },
     "metadata": {},
     "output_type": "display_data"
    }
   ],
   "source": [
    "# FIguring out what weights to use for the initial parameters (i.e. how to scale them down to minimise saturation)\n",
    "x = torch.randn(1000,10)\n",
    "w = torch.randn(10, 200)\n",
    "y = x @ w\n",
    "print(x.mean(), x.std())\n",
    "print(y.mean(), y.std()) # want output to have same mean and std as input roughly speaking\n",
    "# so scale the weights by 1/sqrt(n) where n is the number of inputs to the neuron (e.g. by 1/sqrt(10) in this case)\n",
    "\"\"\"\n",
    "In reality you use a kaiming normal initialisation which is a bit more complicated but this is the basic idea\"\"\"\n",
    "\n",
    "plt.figure(figsize=(20,5))\n",
    "plt.subplot(121)\n",
    "plt.hist(x.view(-1).tolist(), 50, density=True);\n",
    "plt.subplot(122)\n",
    "plt.hist(y.view(-1).tolist(), 50, density=True);"
   ]
  },
  {
   "cell_type": "code",
   "execution_count": null,
   "metadata": {},
   "outputs": [
    {
     "name": "stdout",
     "output_type": "stream",
     "text": [
      "vebh\n",
      "kymm\n",
      "franns\n",
      "shrishmdiles\n",
      "sun\n",
      "jakoh\n",
      "kevann\n",
      "kembldis\n",
      "damilseyvian\n",
      "shrisabruncchostianna\n",
      "maxn\n",
      "rsu\n",
      "kassk\n",
      "jakekmny\n",
      "grac\n",
      "menyx\n",
      "veby\n",
      "shihnn\n",
      "kamritzlee\n",
      "shellh\n"
     ]
    }
   ],
   "source": [
    "\n",
    "def name_maker(block_size):\n",
    "     \n",
    "    out = []\n",
    "    context = [0] * block_size\n",
    "    while True:\n",
    "        emb = C[torch.tensor(context)]\n",
    "        h = torch.tanh((emb.view(1, -1) @ W1))\n",
    "        logits = h @ W2 + b2\n",
    "        p = F.softmax(logits, 1)\n",
    "        ix = torch.multinomial(p, 1).item()\n",
    "        context = context[1:] + [ix]\n",
    "        out.append(ix)\n",
    "\n",
    "        if ix == 0: # end of name\n",
    "            break\n",
    "        \n",
    "    return ''.join(itos[i] for i in out[:-1])\n",
    "\n",
    "for i in range(20):\n",
    "    print(name_maker(block_size))"
   ]
  }
 ],
 "metadata": {
  "kernelspec": {
   "display_name": "Python 3",
   "language": "python",
   "name": "python3"
  },
  "language_info": {
   "codemirror_mode": {
    "name": "ipython",
    "version": 3
   },
   "file_extension": ".py",
   "mimetype": "text/x-python",
   "name": "python",
   "nbconvert_exporter": "python",
   "pygments_lexer": "ipython3",
   "version": "3.11.3"
  }
 },
 "nbformat": 4,
 "nbformat_minor": 2
}
