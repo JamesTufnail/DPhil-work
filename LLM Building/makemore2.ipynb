{
 "cells": [
  {
   "cell_type": "code",
   "execution_count": 1,
   "metadata": {},
   "outputs": [],
   "source": [
    "import torch\n",
    "import torch.nn.functional as F\n",
    "import matplotlib.pyplot as plt\n",
    "%matplotlib inline"
   ]
  },
  {
   "cell_type": "code",
   "execution_count": 2,
   "metadata": {},
   "outputs": [],
   "source": [
    "# read in words\n",
    "words = open('names.txt', 'r').read().splitlines()"
   ]
  },
  {
   "cell_type": "code",
   "execution_count": 3,
   "metadata": {},
   "outputs": [],
   "source": [
    "# build mapping and character vocabulary\n",
    "chars = sorted(list(set(''.join(words))))\n",
    "stoi = {s:i+1 for i,s in enumerate(chars)}\n",
    "stoi['.'] = 0\n",
    "itos = {i:s for s,i in stoi.items()}\n",
    "# print(itos)"
   ]
  },
  {
   "cell_type": "code",
   "execution_count": 4,
   "metadata": {},
   "outputs": [
    {
     "data": {
      "text/plain": [
       "torch.Size([228146, 3])"
      ]
     },
     "execution_count": 4,
     "metadata": {},
     "output_type": "execute_result"
    }
   ],
   "source": [
    "# build the dataset\n",
    "\n",
    "block_size = 3 # context length: i.e. how many characters to predict the next one?\n",
    "X, Y = [], []\n",
    "for w in words:\n",
    "\n",
    "    # print(w)\n",
    "    context = [0] * block_size # context is a list of 0s of length block_size\n",
    "    for ch in w + '.':\n",
    "        ix = stoi[ch]\n",
    "        X.append(context)\n",
    "        Y.append(ix)\n",
    "        # print(''.join(itos[i] for i in context), ' -----> ', itos[ix])\n",
    "\n",
    "        context = context[1:] + [ix] # update context with the next character\n",
    "\n",
    "X = torch.tensor(X)\n",
    "Y = torch.tensor(Y)\n",
    "X.shape\n"
   ]
  },
  {
   "cell_type": "code",
   "execution_count": 5,
   "metadata": {},
   "outputs": [
    {
     "data": {
      "text/plain": [
       "tensor([[[-1.6102,  0.3667],\n",
       "         [-1.6102,  0.3667],\n",
       "         [-1.6102,  0.3667]],\n",
       "\n",
       "        [[-1.6102,  0.3667],\n",
       "         [-1.6102,  0.3667],\n",
       "         [ 2.2073,  0.9240]],\n",
       "\n",
       "        [[-1.6102,  0.3667],\n",
       "         [ 2.2073,  0.9240],\n",
       "         [ 0.2593, -0.2932]],\n",
       "\n",
       "        ...,\n",
       "\n",
       "        [[-0.0641,  0.3928],\n",
       "         [-0.0641,  0.3928],\n",
       "         [ 1.4824,  0.6780]],\n",
       "\n",
       "        [[-0.0641,  0.3928],\n",
       "         [ 1.4824,  0.6780],\n",
       "         [-0.0641,  0.3928]],\n",
       "\n",
       "        [[ 1.4824,  0.6780],\n",
       "         [-0.0641,  0.3928],\n",
       "         [ 0.3473, -1.6163]]])"
      ]
     },
     "execution_count": 5,
     "metadata": {},
     "output_type": "execute_result"
    }
   ],
   "source": [
    "C = torch.randn((27, 2))\n",
    "C[5] # indexing row 5\n",
    "C[[5, 6, 7]] # indexing rows 5, 6, 7\n",
    "C[torch.tensor([5, 6, 7])] # same as above but this time using a tensor\n",
    "C[X] # indexing rows of C using the indices in X\n"
   ]
  },
  {
   "cell_type": "code",
   "execution_count": 6,
   "metadata": {},
   "outputs": [
    {
     "data": {
      "text/plain": [
       "tensor([[[-1.6102,  0.3667],\n",
       "         [-1.6102,  0.3667],\n",
       "         [-1.6102,  0.3667]],\n",
       "\n",
       "        [[-1.6102,  0.3667],\n",
       "         [-1.6102,  0.3667],\n",
       "         [ 2.2073,  0.9240]],\n",
       "\n",
       "        [[-1.6102,  0.3667],\n",
       "         [ 2.2073,  0.9240],\n",
       "         [ 0.2593, -0.2932]],\n",
       "\n",
       "        ...,\n",
       "\n",
       "        [[-0.0641,  0.3928],\n",
       "         [-0.0641,  0.3928],\n",
       "         [ 1.4824,  0.6780]],\n",
       "\n",
       "        [[-0.0641,  0.3928],\n",
       "         [ 1.4824,  0.6780],\n",
       "         [-0.0641,  0.3928]],\n",
       "\n",
       "        [[ 1.4824,  0.6780],\n",
       "         [-0.0641,  0.3928],\n",
       "         [ 0.3473, -1.6163]]])"
      ]
     },
     "execution_count": 6,
     "metadata": {},
     "output_type": "execute_result"
    }
   ],
   "source": [
    "emb = C[X] # embed the input\n",
    "emb.shape\n",
    "emb"
   ]
  },
  {
   "cell_type": "code",
   "execution_count": 7,
   "metadata": {},
   "outputs": [
    {
     "data": {
      "text/plain": [
       "tensor([[ 0.8530, -0.9996, -0.9293,  ..., -0.9996, -0.6797,  0.9989],\n",
       "        [ 0.9986, -0.5232, -0.0318,  ..., -0.9990,  0.9991, -0.2999],\n",
       "        [ 0.9997,  0.8664, -0.8454,  ...,  0.9283,  0.7959,  0.9996],\n",
       "        ...,\n",
       "        [ 0.9904,  0.0128, -0.1044,  ..., -0.8648,  0.9884, -0.3192],\n",
       "        [ 0.9857,  0.1721, -0.7673,  ...,  0.2249,  0.7391,  0.9843],\n",
       "        [ 0.6227, -0.9964, -0.2612,  ...,  0.9978, -0.8993, -0.8503]])"
      ]
     },
     "execution_count": 7,
     "metadata": {},
     "output_type": "execute_result"
    }
   ],
   "source": [
    "# inputs to NN \n",
    "w1 = torch.randn((6,100))\n",
    "b1 = torch.randn((100))\n",
    "\n",
    "h = torch.tanh((emb.view(-1, 6)) @ w1 + b1) # \n",
    "h\n"
   ]
  },
  {
   "cell_type": "markdown",
   "metadata": {},
   "source": [
    "Now to make more respectable"
   ]
  },
  {
   "cell_type": "code",
   "execution_count": 8,
   "metadata": {},
   "outputs": [
    {
     "data": {
      "text/plain": [
       "(torch.Size([228146, 3]), torch.Size([228146]))"
      ]
     },
     "execution_count": 8,
     "metadata": {},
     "output_type": "execute_result"
    }
   ],
   "source": [
    "X.shape, Y.shape # dataset"
   ]
  },
  {
   "cell_type": "code",
   "execution_count": 9,
   "metadata": {},
   "outputs": [],
   "source": [
    "g = torch.Generator().manual_seed(2147483647)\n",
    "C = torch.randn((27,2), generator = g)\n",
    "w1 = torch.randn((6,100), generator = g)\n",
    "b1 = torch.randn((100), generator = g)\n",
    "w2 = torch.randn((100,27), generator = g)\n",
    "b2 = torch.randn((27), generator = g)\n",
    "parameters = [C, w1, b1, w2, b2]"
   ]
  },
  {
   "cell_type": "code",
   "execution_count": 10,
   "metadata": {},
   "outputs": [
    {
     "name": "stdout",
     "output_type": "stream",
     "text": [
      "3481\n"
     ]
    }
   ],
   "source": [
    "s = sum(p.nelement() for p in parameters)\n",
    "print(s)"
   ]
  },
  {
   "cell_type": "code",
   "execution_count": 16,
   "metadata": {},
   "outputs": [
    {
     "ename": "IndexError",
     "evalue": "shape mismatch: indexing tensors could not be broadcast together with shapes [32], [228146]",
     "output_type": "error",
     "traceback": [
      "\u001b[1;31m---------------------------------------------------------------------------\u001b[0m",
      "\u001b[1;31mIndexError\u001b[0m                                Traceback (most recent call last)",
      "Cell \u001b[1;32mIn[16], line 13\u001b[0m\n\u001b[0;32m     11\u001b[0m counts \u001b[38;5;241m=\u001b[39m logits\u001b[38;5;241m.\u001b[39mexp()\n\u001b[0;32m     12\u001b[0m prob \u001b[38;5;241m=\u001b[39m counts \u001b[38;5;241m/\u001b[39m counts\u001b[38;5;241m.\u001b[39msum(\u001b[38;5;241m1\u001b[39m, keepdims\u001b[38;5;241m=\u001b[39m\u001b[38;5;28;01mTrue\u001b[39;00m)\n\u001b[1;32m---> 13\u001b[0m loss \u001b[38;5;241m=\u001b[39m \u001b[38;5;241m-\u001b[39m\u001b[43mprob\u001b[49m\u001b[43m[\u001b[49m\u001b[43mtorch\u001b[49m\u001b[38;5;241;43m.\u001b[39;49m\u001b[43marange\u001b[49m\u001b[43m(\u001b[49m\u001b[38;5;241;43m32\u001b[39;49m\u001b[43m)\u001b[49m\u001b[43m,\u001b[49m\u001b[43m \u001b[49m\u001b[43mY\u001b[49m\u001b[43m]\u001b[49m\u001b[38;5;241m.\u001b[39mlog()\u001b[38;5;241m.\u001b[39mmean()\n\u001b[0;32m     14\u001b[0m \u001b[38;5;66;03m# loss\u001b[39;00m\n\u001b[0;32m     15\u001b[0m \n\u001b[0;32m     16\u001b[0m \u001b[38;5;66;03m# F.cross_entropy(logits, Y)\u001b[39;00m\n\u001b[0;32m     17\u001b[0m \u001b[38;5;66;03m# loss\u001b[39;00m\n",
      "\u001b[1;31mIndexError\u001b[0m: shape mismatch: indexing tensors could not be broadcast together with shapes [32], [228146]"
     ]
    }
   ],
   "source": [
    "emb = C[X] # embed the input as a tensor of shape 32, 3, 2\n",
    "# emb.shape\n",
    "h = torch.tanh((emb.view(-1, 6)) @ w1 + b1) ## tanh is making values betweeen -1 and 1\n",
    "logits = h @ w2 + b2\n",
    "\n",
    "# this is the same as a cross_entropy loss\n",
    "# you wouldn't use these because its slow in terms of memory and inefficient for\n",
    "# backward pass. Also can fail if logits have large numbers\n",
    "# exp(big number) = infinity\n",
    "\n",
    "# counts = logits.exp()\n",
    "# prob = counts / counts.sum(1, keepdims=True)\n",
    "# loss = -prob[torch.arange(32), Y].log().mean()\n",
    "# loss\n",
    "\n",
    "# F.cross_entropy(logits, Y)\n",
    "# loss"
   ]
  },
  {
   "cell_type": "code",
   "execution_count": 12,
   "metadata": {},
   "outputs": [],
   "source": [
    "for p in parameters:\n",
    "    p.requires_grad_ = True"
   ]
  },
  {
   "cell_type": "code",
   "execution_count": 15,
   "metadata": {},
   "outputs": [
    {
     "ename": "IndexError",
     "evalue": "shape mismatch: indexing tensors could not be broadcast together with shapes [32], [228146]",
     "output_type": "error",
     "traceback": [
      "\u001b[1;31m---------------------------------------------------------------------------\u001b[0m",
      "\u001b[1;31mIndexError\u001b[0m                                Traceback (most recent call last)",
      "Cell \u001b[1;32mIn[15], line 10\u001b[0m\n\u001b[0;32m      8\u001b[0m counts \u001b[38;5;241m=\u001b[39m logits\u001b[38;5;241m.\u001b[39mexp()\n\u001b[0;32m      9\u001b[0m prob \u001b[38;5;241m=\u001b[39m counts \u001b[38;5;241m/\u001b[39m counts\u001b[38;5;241m.\u001b[39msum(i, keepdims\u001b[38;5;241m=\u001b[39m\u001b[38;5;28;01mTrue\u001b[39;00m)\n\u001b[1;32m---> 10\u001b[0m loss \u001b[38;5;241m=\u001b[39m \u001b[38;5;241m-\u001b[39m\u001b[43mprob\u001b[49m\u001b[43m[\u001b[49m\u001b[43mtorch\u001b[49m\u001b[38;5;241;43m.\u001b[39;49m\u001b[43marange\u001b[49m\u001b[43m(\u001b[49m\u001b[38;5;241;43m32\u001b[39;49m\u001b[43m)\u001b[49m\u001b[43m,\u001b[49m\u001b[43m \u001b[49m\u001b[43mY\u001b[49m\u001b[43m]\u001b[49m\u001b[38;5;241m.\u001b[39mlog()\u001b[38;5;241m.\u001b[39mmean()\n\u001b[0;32m     12\u001b[0m \u001b[38;5;66;03m# backward pass\u001b[39;00m\n\u001b[0;32m     13\u001b[0m \u001b[38;5;28;01mfor\u001b[39;00m p \u001b[38;5;129;01min\u001b[39;00m parameters:\n",
      "\u001b[1;31mIndexError\u001b[0m: shape mismatch: indexing tensors could not be broadcast together with shapes [32], [228146]"
     ]
    }
   ],
   "source": [
    "# training NN\n",
    "for i in range(100):\n",
    "    # forward pass\n",
    "    emb = C[X] # embed the input as a tensor of shape 32, 3, 2\n",
    "    h = torch.tanh((emb.view(-1, 6)) @ w1 + b1) ## tanh is making values betweeen -1 and 1\n",
    "    logits = h @ w2 + b2\n",
    "    loss = F.cross_entropy(logits, Y)\n",
    "\n",
    "    # backward pass\n",
    "    for p in parameters:\n",
    "        p.requires_grad = True\n",
    "        p.grad = None\n",
    "    loss.backward()\n",
    "\n",
    "    # update\n",
    "    for p in parameters:\n",
    "        p.data -= 0.1 * p.grad\n",
    "    \n",
    "    print(loss.item())\n",
    "\n",
    "    # you can see that if you change the training batch size to be all data values then \n",
    "    # it takes longer to train the model. \n",
    "    # Instead you want to train on small batches"
   ]
  },
  {
   "cell_type": "code",
   "execution_count": null,
   "metadata": {},
   "outputs": [
    {
     "name": "stdout",
     "output_type": "stream",
     "text": [
      "2.620084524154663\n"
     ]
    }
   ],
   "source": [
    "# Instead you can run with mini batches\n",
    "for i in range(1000):\n",
    "\n",
    "    # build minibatch\n",
    "    ix = torch.randint(0, X.shape[0], (32,))\n",
    "\n",
    "    # forward pass\n",
    "    emb = C[X[ix]] # embed the input as a tensor of shape 32, 3, 2\n",
    "    h = torch.tanh((emb.view(-1, 6)) @ w1 + b1) ## tanh is making values betweeen -1 and 1\n",
    "    logits = h @ w2 + b2\n",
    "    loss = F.cross_entropy(logits, Y[ix])\n",
    "\n",
    "    # backward pass\n",
    "    for p in parameters:\n",
    "        p.requires_grad = True\n",
    "        p.grad = None\n",
    "    loss.backward()\n",
    "\n",
    "    # update\n",
    "    for p in parameters:\n",
    "        p.data -= 0.1 * p.grad\n",
    "    \n",
    "print(loss.item())"
   ]
  },
  {
   "cell_type": "code",
   "execution_count": 18,
   "metadata": {},
   "outputs": [
    {
     "name": "stdout",
     "output_type": "stream",
     "text": [
      "70.62447357177734\n"
     ]
    }
   ],
   "source": [
    "# how to choose the best learning rate\n",
    "lre = torch.linspace(-3,1,1000)\n",
    "lrs = 10**lre\n",
    "\n",
    "lri = []\n",
    "lossi = []\n",
    "\n",
    "for i in range(1000):\n",
    "\n",
    "    # build minibatch\n",
    "    ix = torch.randint(0, X.shape[0], (32,))\n",
    "\n",
    "    # forward pass\n",
    "    emb = C[X[ix]] # embed the input as a tensor of shape 32, 3, 2\n",
    "    h = torch.tanh((emb.view(-1, 6)) @ w1 + b1) ## tanh is making values betweeen -1 and 1\n",
    "    logits = h @ w2 + b2\n",
    "    loss = F.cross_entropy(logits, Y[ix])\n",
    "\n",
    "    # backward pass\n",
    "    for p in parameters:\n",
    "        p.requires_grad = True\n",
    "        p.grad = None\n",
    "    loss.backward()\n",
    "\n",
    "    # update\n",
    "    lr = lrs[i]\n",
    "    # lr = 0.01\n",
    "    for p in parameters:\n",
    "        p.data -= lr * p.grad\n",
    "\n",
    "    # track statistics\n",
    "    lri.append(lre[i])\n",
    "    lossi.append(loss.item())\n",
    "    \n",
    "print(loss.item())"
   ]
  },
  {
   "cell_type": "code",
   "execution_count": 19,
   "metadata": {},
   "outputs": [
    {
     "data": {
      "text/plain": [
       "[<matplotlib.lines.Line2D at 0x157ebc7f1d0>]"
      ]
     },
     "execution_count": 19,
     "metadata": {},
     "output_type": "execute_result"
    },
    {
     "data": {
      "image/png": "[encoded data removed]",
      "text/plain": [
       "<Figure size 640x480 with 1 Axes>"
      ]
     },
     "metadata": {},
     "output_type": "display_data"
    }
   ],
   "source": [
    "plt.plot(lri, lossi)\n"
   ]
  },
  {
   "cell_type": "code",
   "execution_count": null,
   "metadata": {},
   "outputs": [
    {
     "name": "stdout",
     "output_type": "stream",
     "text": [
      "Number parameters is: 10281\n"
     ]
    }
   ],
   "source": [
    "g = torch.Generator().manual_seed(2147483647)\n",
    "C = torch.randn((27,2), generator = g)\n",
    "w1 = torch.randn((6,300), generator = g)\n",
    "b1 = torch.randn((300), generator = g)\n",
    "w2 = torch.randn((300,27), generator = g)\n",
    "b2 = torch.randn((27), generator = g)\n",
    "parameters = [C, w1, b1, w2, b2]\n",
    "print('Number parameters is:', sum(p.nelement() for p in parameters))"
   ]
  },
  {
   "cell_type": "code",
   "execution_count": null,
   "metadata": {},
   "outputs": [],
   "source": [
    "for p in parameters:\n",
    "    p.requires_grad_ = True"
   ]
  },
  {
   "cell_type": "code",
   "execution_count": null,
   "metadata": {},
   "outputs": [
    {
     "name": "stdout",
     "output_type": "stream",
     "text": [
      "torch.Size([182441, 3]) torch.Size([182441])\n",
      "torch.Size([22902, 3]) torch.Size([22902])\n",
      "torch.Size([22803, 3]) torch.Size([22803])\n"
     ]
    }
   ],
   "source": [
    "# Now building the model based on a split of train/dev/test\n",
    "\n",
    "# build the dataset\n",
    "def build_dataset(words, block_size):\n",
    "\n",
    "# context length: i.e. how many characters to predict the next one?\n",
    "    X, Y = [], []\n",
    "    for w in words:\n",
    "\n",
    "        context = [0] * block_size # context is a list of 0s of length block_size\n",
    "        for ch in w + '.':\n",
    "            ix = stoi[ch]\n",
    "            X.append(context)\n",
    "            Y.append(ix)\n",
    "            context = context[1:] + [ix] # update context with the next character\n",
    "\n",
    "    X = torch.tensor(X)\n",
    "    Y = torch.tensor(Y)\n",
    "    print(X.shape, Y.shape)\n",
    "    return X, Y\n",
    "\n",
    "\n",
    "import random\n",
    "random.seed(42)\n",
    "random.shuffle(words)\n",
    "n1 = int(0.8*len(words))\n",
    "n2 = int(0.9*len(words))\n",
    "\n",
    "# build the model\n",
    "Xtr, Ytr = build_dataset(words[:n1], 3)\n",
    "Xdev, Ydev = build_dataset(words[n1:n2], 3)\n",
    "Xte, Yte = build_dataset(words[n2:], 3)"
   ]
  },
  {
   "cell_type": "code",
   "execution_count": null,
   "metadata": {},
   "outputs": [],
   "source": [
    "# rewriting function to train the model\n",
    "\n",
    "def train_model(X, Y, iterations):\n",
    "    for i in range(iterations):\n",
    "\n",
    "        # build minibatch\n",
    "        ix = torch.randint(0, X.shape[0], (32,))\n",
    "\n",
    "        # forward pass\n",
    "        emb = C[X[ix]] # embed the input as a tensor of shape 32, 3, 2\n",
    "        h = torch.tanh((emb.view(-1, 6)) @ w1 + b1) ## tanh is making values betweeen -1 and 1\n",
    "        logits = h @ w2 + b2\n",
    "        loss = F.cross_entropy(logits, Y[ix])\n",
    "\n",
    "        # backward pass\n",
    "        for p in parameters:\n",
    "            p.requires_grad = True\n",
    "            p.grad = None\n",
    "        loss.backward()\n",
    "\n",
    "        # update\n",
    "        # lr = lrs[i]\n",
    "        lr = 0.1\n",
    "        for p in parameters:\n",
    "            p.data -= lr * p.grad\n",
    "\n",
    "        # track statistics\n",
    "        # lri.append(lre[i])\n",
    "        # lossi.append(loss.item())\n",
    "        \n",
    "    return loss.item()\n",
    "\n",
    "def eval_model(X, Y):\n",
    "\n",
    "        emb = C[X] # embed the input as a tensor of shape 32, 3, 2\n",
    "        h = torch.tanh((emb.view(-1, 6)) @ w1 + b1) ## tanh is making values betweeen -1 and 1\n",
    "        logits = h @ w2 + b2\n",
    "        loss = F.cross_entropy(logits, Y)\n",
    "        \n",
    "        return loss.item()\n",
    "\n",
    "\n",
    "def name_maker():\n",
    "     \n",
    "    out = []\n",
    "    context = [0] * block_size\n",
    "    while True:\n",
    "        emb = C[torch.tensor(context)]\n",
    "        h = torch.tanh((emb.view(1, -1) @ w1 + b1))\n",
    "        logits = h @ w2 + b2\n",
    "        p = F.softmax(logits, 1)\n",
    "        ix = torch.multinomial(p, 1).item()\n",
    "        context = context[1:] + [ix]\n",
    "        out.append(ix)\n",
    "\n",
    "        if ix == 0: # end of name\n",
    "            break\n",
    "        \n",
    "    return ''.join(itos[i] for i in out[:-1])"
   ]
  },
  {
   "cell_type": "code",
   "execution_count": null,
   "metadata": {},
   "outputs": [],
   "source": [
    "lre = torch.linspace(-3,1,1000)\n",
    "lrs = 10**lre\n",
    "\n",
    "lri = []\n",
    "lossi = []\n",
    "\n",
    "for p in parameters:\n",
    "    p.requires_grad_ = True\n"
   ]
  },
  {
   "cell_type": "code",
   "execution_count": null,
   "metadata": {},
   "outputs": [
    {
     "name": "stdout",
     "output_type": "stream",
     "text": [
      "Train: 2.3254358768463135 Dev: 2.5144500732421875\n",
      "Train: 2.505774974822998 Dev: 2.4770965576171875\n",
      "Train: 2.1773414611816406 Dev: 2.5092945098876953\n",
      "Train: 2.552492380142212 Dev: 2.399718761444092\n",
      "Train: 2.8685381412506104 Dev: 2.4033470153808594\n",
      "Train: 1.86417555809021 Dev: 2.386216878890991\n",
      "Train: 2.7555198669433594 Dev: 2.374272108078003\n",
      "Train: 2.122741937637329 Dev: 2.4598124027252197\n",
      "Train: 2.355531930923462 Dev: 2.4457809925079346\n"
     ]
    },
    {
     "ename": "KeyboardInterrupt",
     "evalue": "",
     "output_type": "error",
     "traceback": [
      "\u001b[1;31m---------------------------------------------------------------------------\u001b[0m",
      "\u001b[1;31mKeyboardInterrupt\u001b[0m                         Traceback (most recent call last)",
      "Cell \u001b[1;32mIn[99], line 5\u001b[0m\n\u001b[0;32m      2\u001b[0m train, test \u001b[38;5;241m=\u001b[39m [], []\n\u001b[0;32m      4\u001b[0m \u001b[38;5;28;01mfor\u001b[39;00m i \u001b[38;5;129;01min\u001b[39;00m \u001b[38;5;28mrange\u001b[39m(\u001b[38;5;241m10\u001b[39m):\n\u001b[1;32m----> 5\u001b[0m     train\u001b[38;5;241m.\u001b[39mappend(\u001b[43mtrain_model\u001b[49m\u001b[43m(\u001b[49m\u001b[43mXtr\u001b[49m\u001b[43m,\u001b[49m\u001b[43m \u001b[49m\u001b[43mYtr\u001b[49m\u001b[43m,\u001b[49m\u001b[43m \u001b[49m\u001b[38;5;241;43m10000\u001b[39;49m\u001b[43m)\u001b[49m)\n\u001b[0;32m      6\u001b[0m     test\u001b[38;5;241m.\u001b[39mappend(eval_model(Xdev, Ydev))\n\u001b[0;32m      7\u001b[0m     \u001b[38;5;28mprint\u001b[39m(\u001b[38;5;124m'\u001b[39m\u001b[38;5;124mTrain:\u001b[39m\u001b[38;5;124m'\u001b[39m, train[\u001b[38;5;241m-\u001b[39m\u001b[38;5;241m1\u001b[39m], \u001b[38;5;124m'\u001b[39m\u001b[38;5;124mDev:\u001b[39m\u001b[38;5;124m'\u001b[39m, test[\u001b[38;5;241m-\u001b[39m\u001b[38;5;241m1\u001b[39m])\n",
      "Cell \u001b[1;32mIn[97], line 19\u001b[0m, in \u001b[0;36mtrain_model\u001b[1;34m(X, Y, iterations)\u001b[0m\n\u001b[0;32m     17\u001b[0m     p\u001b[38;5;241m.\u001b[39mrequires_grad \u001b[38;5;241m=\u001b[39m \u001b[38;5;28;01mTrue\u001b[39;00m\n\u001b[0;32m     18\u001b[0m     p\u001b[38;5;241m.\u001b[39mgrad \u001b[38;5;241m=\u001b[39m \u001b[38;5;28;01mNone\u001b[39;00m\n\u001b[1;32m---> 19\u001b[0m \u001b[43mloss\u001b[49m\u001b[38;5;241;43m.\u001b[39;49m\u001b[43mbackward\u001b[49m\u001b[43m(\u001b[49m\u001b[43m)\u001b[49m\n\u001b[0;32m     21\u001b[0m \u001b[38;5;66;03m# update\u001b[39;00m\n\u001b[0;32m     22\u001b[0m \u001b[38;5;66;03m# lr = lrs[i]\u001b[39;00m\n\u001b[0;32m     23\u001b[0m lr \u001b[38;5;241m=\u001b[39m \u001b[38;5;241m0.1\u001b[39m\n",
      "File \u001b[1;32mc:\\Users\\James\\Lib\\site-packages\\torch\\_tensor.py:522\u001b[0m, in \u001b[0;36mTensor.backward\u001b[1;34m(self, gradient, retain_graph, create_graph, inputs)\u001b[0m\n\u001b[0;32m    512\u001b[0m \u001b[38;5;28;01mif\u001b[39;00m has_torch_function_unary(\u001b[38;5;28mself\u001b[39m):\n\u001b[0;32m    513\u001b[0m     \u001b[38;5;28;01mreturn\u001b[39;00m handle_torch_function(\n\u001b[0;32m    514\u001b[0m         Tensor\u001b[38;5;241m.\u001b[39mbackward,\n\u001b[0;32m    515\u001b[0m         (\u001b[38;5;28mself\u001b[39m,),\n\u001b[1;32m   (...)\u001b[0m\n\u001b[0;32m    520\u001b[0m         inputs\u001b[38;5;241m=\u001b[39minputs,\n\u001b[0;32m    521\u001b[0m     )\n\u001b[1;32m--> 522\u001b[0m \u001b[43mtorch\u001b[49m\u001b[38;5;241;43m.\u001b[39;49m\u001b[43mautograd\u001b[49m\u001b[38;5;241;43m.\u001b[39;49m\u001b[43mbackward\u001b[49m\u001b[43m(\u001b[49m\n\u001b[0;32m    523\u001b[0m \u001b[43m    \u001b[49m\u001b[38;5;28;43mself\u001b[39;49m\u001b[43m,\u001b[49m\u001b[43m \u001b[49m\u001b[43mgradient\u001b[49m\u001b[43m,\u001b[49m\u001b[43m \u001b[49m\u001b[43mretain_graph\u001b[49m\u001b[43m,\u001b[49m\u001b[43m \u001b[49m\u001b[43mcreate_graph\u001b[49m\u001b[43m,\u001b[49m\u001b[43m \u001b[49m\u001b[43minputs\u001b[49m\u001b[38;5;241;43m=\u001b[39;49m\u001b[43minputs\u001b[49m\n\u001b[0;32m    524\u001b[0m \u001b[43m\u001b[49m\u001b[43m)\u001b[49m\n",
      "File \u001b[1;32mc:\\Users\\James\\Lib\\site-packages\\torch\\autograd\\__init__.py:266\u001b[0m, in \u001b[0;36mbackward\u001b[1;34m(tensors, grad_tensors, retain_graph, create_graph, grad_variables, inputs)\u001b[0m\n\u001b[0;32m    261\u001b[0m     retain_graph \u001b[38;5;241m=\u001b[39m create_graph\n\u001b[0;32m    263\u001b[0m \u001b[38;5;66;03m# The reason we repeat the same comment below is that\u001b[39;00m\n\u001b[0;32m    264\u001b[0m \u001b[38;5;66;03m# some Python versions print out the first line of a multi-line function\u001b[39;00m\n\u001b[0;32m    265\u001b[0m \u001b[38;5;66;03m# calls in the traceback and some print out the last line\u001b[39;00m\n\u001b[1;32m--> 266\u001b[0m \u001b[43mVariable\u001b[49m\u001b[38;5;241;43m.\u001b[39;49m\u001b[43m_execution_engine\u001b[49m\u001b[38;5;241;43m.\u001b[39;49m\u001b[43mrun_backward\u001b[49m\u001b[43m(\u001b[49m\u001b[43m  \u001b[49m\u001b[38;5;66;43;03m# Calls into the C++ engine to run the backward pass\u001b[39;49;00m\n\u001b[0;32m    267\u001b[0m \u001b[43m    \u001b[49m\u001b[43mtensors\u001b[49m\u001b[43m,\u001b[49m\n\u001b[0;32m    268\u001b[0m \u001b[43m    \u001b[49m\u001b[43mgrad_tensors_\u001b[49m\u001b[43m,\u001b[49m\n\u001b[0;32m    269\u001b[0m \u001b[43m    \u001b[49m\u001b[43mretain_graph\u001b[49m\u001b[43m,\u001b[49m\n\u001b[0;32m    270\u001b[0m \u001b[43m    \u001b[49m\u001b[43mcreate_graph\u001b[49m\u001b[43m,\u001b[49m\n\u001b[0;32m    271\u001b[0m \u001b[43m    \u001b[49m\u001b[43minputs\u001b[49m\u001b[43m,\u001b[49m\n\u001b[0;32m    272\u001b[0m \u001b[43m    \u001b[49m\u001b[43mallow_unreachable\u001b[49m\u001b[38;5;241;43m=\u001b[39;49m\u001b[38;5;28;43;01mTrue\u001b[39;49;00m\u001b[43m,\u001b[49m\n\u001b[0;32m    273\u001b[0m \u001b[43m    \u001b[49m\u001b[43maccumulate_grad\u001b[49m\u001b[38;5;241;43m=\u001b[39;49m\u001b[38;5;28;43;01mTrue\u001b[39;49;00m\u001b[43m,\u001b[49m\n\u001b[0;32m    274\u001b[0m \u001b[43m\u001b[49m\u001b[43m)\u001b[49m\n",
      "\u001b[1;31mKeyboardInterrupt\u001b[0m: "
     ]
    }
   ],
   "source": [
    "# Train model on training data abd evaluate on dev data\n",
    "train, test = [], []\n",
    "\n",
    "for i in range(10):\n",
    "    train.append(train_model(Xtr, Ytr, 10000))\n",
    "    test.append(eval_model(Xdev, Ydev))\n",
    "    print('Train:', train[-1], 'Dev:', test[-1])"
   ]
  },
  {
   "cell_type": "markdown",
   "metadata": {},
   "source": [
    "Can change hyperparamters (e.g. feed in parameters, layers in MLP, batch size ) to optimise Xdev"
   ]
  },
  {
   "cell_type": "code",
   "execution_count": null,
   "metadata": {},
   "outputs": [
    {
     "data": {
      "image/png": "[encoded data removed]",
      "text/plain": [
       "<Figure size 800x800 with 1 Axes>"
      ]
     },
     "metadata": {},
     "output_type": "display_data"
    }
   ],
   "source": [
    "# visualise dimensions of embeddings\n",
    "\n",
    "plt.figure(figsize=(8,8))\n",
    "plt.scatter(C[:,0].data, C[:,1].data, s=200)\n",
    " \n",
    "for i in range(C.shape[0]):\n",
    "    plt.text(C[i,0], C[i,1], itos[i], fontsize=12)\n",
    "\n",
    "plt.grid('minor')\n",
    "plt.show()\n"
   ]
  },
  {
   "cell_type": "code",
   "execution_count": null,
   "metadata": {},
   "outputs": [
    {
     "name": "stdout",
     "output_type": "stream",
     "text": [
      "zohlelea\n",
      "matel\n",
      "lex\n",
      "mena\n",
      "vale\n",
      "desha\n",
      "yven\n",
      "ayre\n",
      "orharolene\n",
      "thana\n"
     ]
    }
   ],
   "source": [
    "#printing names \n",
    "for i in range(10):\n",
    "    print(name_maker())"
   ]
  }
 ],
 "metadata": {
  "kernelspec": {
   "display_name": "Python 3",
   "language": "python",
   "name": "python3"
  },
  "language_info": {
   "codemirror_mode": {
    "name": "ipython",
    "version": 3
   },
   "file_extension": ".py",
   "mimetype": "text/x-python",
   "name": "python",
   "nbconvert_exporter": "python",
   "pygments_lexer": "ipython3",
   "version": "3.11.3"
  }
 },
 "nbformat": 4,
 "nbformat_minor": 2
}
